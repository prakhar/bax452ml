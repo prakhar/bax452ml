{
 "cells": [
  {
   "cell_type": "code",
   "execution_count": 13,
   "metadata": {},
   "outputs": [
    {
     "name": "stderr",
     "output_type": "stream",
     "text": [
      "/opt/conda/lib/python3.6/site-packages/IPython/core/interactiveshell.py:2910: FutureWarning: The pandas.stats.ols module is deprecated and will be removed in a future version. We refer to external packages like statsmodels, see some examples here: http://www.statsmodels.org/stable/regression.html\n",
      "  exec(code_obj, self.user_global_ns, self.user_ns)\n"
     ]
    },
    {
     "data": {
      "text/plain": [
       "\n",
       "-------------------------Summary of Regression Analysis-------------------------\n",
       "\n",
       "Formula: Y ~ <dist> + <intercept>\n",
       "\n",
       "Number of Observations:         15\n",
       "Number of Degrees of Freedom:   2\n",
       "\n",
       "R-squared:         0.4108\n",
       "Adj R-squared:     0.3655\n",
       "\n",
       "Rmse:              4.3615\n",
       "\n",
       "F-stat (1, 13):     9.0652, p-value:     0.0100\n",
       "\n",
       "Degrees of Freedom: model 1, resid 13\n",
       "\n",
       "-----------------------Summary of Estimated Coefficients------------------------\n",
       "      Variable       Coef    Std Err     t-stat    p-value    CI 2.5%   CI 97.5%\n",
       "--------------------------------------------------------------------------------\n",
       "          dist     0.3829     0.1272       3.01     0.0100     0.1336     0.6321\n",
       "     intercept    11.5652     2.5738       4.49     0.0006     6.5206    16.6098\n",
       "---------------------------------End of Summary---------------------------------"
      ]
     },
     "execution_count": 13,
     "metadata": {},
     "output_type": "execute_result"
    },
    {
     "data": {
      "image/png": "[encoded data removed]",
      "text/plain": [
       "<matplotlib.figure.Figure at 0x7fe698543978>"
      ]
     },
     "metadata": {},
     "output_type": "display_data"
    }
   ],
   "source": [
    "import pandas as pd\n",
    "import numpy as nd\n",
    "import matplotlib.pylab as plt\n",
    "from pandas.stats.api import ols\n",
    "%matplotlib inline\n",
    "\n",
    "\n",
    "df = pd.DataFrame({\"speed\": [4,4,7,7,8,9,10,10,10,11,11,12,12,12,12], \n",
    "                   \"dist\": [2,10,4,22,16,10,18,26,34,17,28,14,20,24,28]})\n",
    "\n",
    "df['speed'] = df['speed'].apply(lambda x: x * 2)\n",
    "df.plot(kind='scatter', x='speed', y='dist')\n",
    "res = ols(y=df['speed'], x=df[['dist']])\n",
    "res\n",
    "\n",
    "\n"
   ]
  },
  {
   "cell_type": "code",
   "execution_count": null,
   "metadata": {},
   "outputs": [],
   "source": []
  }
 ],
 "metadata": {
  "kernelspec": {
   "display_name": "Python 3",
   "language": "python",
   "name": "python3"
  },
  "language_info": {
   "codemirror_mode": {
    "name": "ipython",
    "version": 3
   },
   "file_extension": ".py",
   "mimetype": "text/x-python",
   "name": "python",
   "nbconvert_exporter": "python",
   "pygments_lexer": "ipython3",
   "version": "3.6.3"
  }
 },
 "nbformat": 4,
 "nbformat_minor": 2
}
