{
  "cells": [
    {
      "metadata": {
        "_uuid": "19a33bb11fc4b262ad583232ba233b1ee9af4908",
        "_cell_guid": "74694777-467e-4112-966d-c3eeb18f6dea"
      },
      "cell_type": "markdown",
      "source": ""
    },
    {
      "metadata": {
        "_uuid": "bc079658004ec5f7e04e772c771bc45a117a1566",
        "_cell_guid": "29996eb9-a928-4d51-b63f-31800ba1e6fc",
        "collapsed": true,
        "trusted": false
      },
      "cell_type": "code",
      "source": "",
      "execution_count": null,
      "outputs": []
    },
    {
      "metadata": {
        "_uuid": "a3cf157e4b8e84ac163de884435760e3b244e91d",
        "_cell_guid": "6ae43f15-e65d-4f3b-b4ea-d049fa83aba2"
      },
      "cell_type": "markdown",
      "source": "Basic code to cleanup the data and test the models"
    },
    {
      "metadata": {
        "_uuid": "b99a733e6e110f3c5802d67f9b6419cad571c565",
        "_kg_hide-output": false,
        "_cell_guid": "5cfa6c34-bfbf-4e6c-aec5-a0342f771426",
        "trusted": true
      },
      "cell_type": "code",
      "source": "# This Python 3 environment comes with many helpful analytics libraries installed\n# It is defined by the kaggle/python docker image: https://github.com/kaggle/docker-python\n# For example, here's several helpful packages to load in \n \nimport numpy as np # linear algebra\nimport pandas as pd # data processing, CSV file I/O (e.g. pd.read_csv)\nfrom sklearn.linear_model import LogisticRegression\n \ntraining_data = pd.read_csv('../input/train.csv')\ntest_data = pd.read_csv('../input/test.csv')\n\n#training_data['PassengerId'] = training_data['PassengerId'].apply(lambda x: 33 if x < 3 else x)\ntraining_data[\"Age\"].fillna(40,inplace=True)\ntraining_data.tail(50)\n \ngender = pd.get_dummies(training_data['Sex'],drop_first=True)\ngender.head()\ntraining_data['male'] = gender\ntraining_data.tail(50)\n\ntraining_embarked_dummy = pd.get_dummies(training_data['Embarked'])\ntraining_data['embarked_C'] = training_embarked_dummy['C']\ntraining_data['embarked_Q'] = training_embarked_dummy['Q']\ntraining_data['embarked_S'] = training_embarked_dummy['S']\n\n#training_pclass_dummy = pd.get_dummies(training_data['Pclass'])\n#training_data['pclass_1'] = training_pclass_dummy[1]\n#training_data['pclass_2'] = training_pclass_dummy[2]\n#training_data['pclass_3'] = training_pclass_dummy[3]\n\n#training_data.drop(['PassengerId','Name','Sex','Embarked','Cabin','Fare'])\ntraining_data.drop(['PassengerId','Name','Sex','Embarked','Cabin','Fare','Ticket'],axis=1,inplace=True)\ntraining_data.tail(50)\n \ny = training_data['Survived']\ntraining_data.drop('Survived', axis=1,inplace=True)\n\n#training_data.info()\n\n\nlogreg = LogisticRegression()\nlogreg.fit(training_data, y)\nlogreg.score(training_data, y)\n\n\n###########\ntest_data[\"Age\"].fillna(40,inplace=True)\n#training_data.tail(50)\n \ngender = pd.get_dummies(test_data['Sex'],drop_first=True)\n#gender.head()\ntest_data['male'] = gender\n#training_data.tail(50)\n\n\ntest_embarked_dummy = pd.get_dummies(test_data['Embarked'])\ntest_data['embarked_C'] = test_embarked_dummy['C']\ntest_data['embarked_Q'] = test_embarked_dummy['Q']\ntest_data['embarked_S'] = test_embarked_dummy['S']\n\n#test_pclass_dummy = pd.get_dummies(training_data['Pclass'])\n#test_data['pclass_1'] = test_pclass_dummy[1]\n#test_data['pclass_2'] = test_pclass_dummy[2]\n#test_data['pclass_3'] = test_pclass_dummy[3]\n\n\n#pd.concat([training_data,xx])\n#gender2.head()\n \n#training_data.drop(['PassengerId','Name','Sex','Embarked','Cabin','Fare'])\ntest_passenger_id = test_data['PassengerId']\ntest_data.drop(['PassengerId','Name','Sex','Embarked','Cabin','Fare','Ticket'],axis=1,inplace=True)\ntest_data.tail(50)\n \n#y = training_data['Survived']\n#training_data.drop('Survived', axis=1,inplace=True)\nres = logreg.predict(test_data)\ntest_data.info()\n#test_pass_id[0]\n\nfinal_res = pd.DataFrame({\n        \"PassengerId\": test_passenger_id,\n        \"Survived\": res\n    })\n\n\nfinal_res.to_csv('titanic_res_2.csv', index=False)\n\nfinal_res\n\n#test_data.head()\n#y_pred = logreg.predict(test_data)\n#from sklearn.metrics import confusion_matrix\n#confusion_matrix = confusion_matrix(y_test, y_pred)\n#print(confusion_matrix)\n \n#training_data.append(xx)\n#training_data.head()\n#training_data.info()\n#train_data[\"Age\"].fillna(28, inplace=True)\n#training_data.info()\n# Input data files are available in the \"../input/\" directory.\n# For example, running this (by clicking run or pressing Shift+Enter) will list the files in the input directory\n \n#from subprocess import check_output\n#print(check_output([\"ls\", \"../input\"]).decode(\"utf8\"))\n#from subprocess import check_output\n#print(check_output([\"ls\", \"../input\"]).decode(\"utf8\"))\n# Any results you write to the current directory are saved as output.\n",
      "execution_count": 1,
      "outputs": [
        {
          "output_type": "stream",
          "text": "<class 'pandas.core.frame.DataFrame'>\nRangeIndex: 418 entries, 0 to 417\nData columns (total 8 columns):\nPclass        418 non-null int64\nAge           418 non-null float64\nSibSp         418 non-null int64\nParch         418 non-null int64\nmale          418 non-null uint8\nembarked_C    418 non-null uint8\nembarked_Q    418 non-null uint8\nembarked_S    418 non-null uint8\ndtypes: float64(1), int64(3), uint8(4)\nmemory usage: 14.8 KB\n",
          "name": "stdout"
        },
        {
          "output_type": "execute_result",
          "execution_count": 1,
          "data": {
            "text/plain": "     PassengerId  Survived\n0            892         0\n1            893         0\n2            894         0\n3            895         0\n4            896         1\n5            897         0\n6            898         1\n7            899         0\n8            900         1\n9            901         0\n10           902         0\n11           903         0\n12           904         1\n13           905         0\n14           906         1\n15           907         1\n16           908         0\n17           909         0\n18           910         1\n19           911         1\n20           912         0\n21           913         0\n22           914         1\n23           915         1\n24           916         1\n25           917         0\n26           918         1\n27           919         0\n28           920         0\n29           921         0\n..           ...       ...\n388         1280         0\n389         1281         0\n390         1282         1\n391         1283         1\n392         1284         0\n393         1285         0\n394         1286         0\n395         1287         1\n396         1288         0\n397         1289         1\n398         1290         0\n399         1291         0\n400         1292         1\n401         1293         0\n402         1294         1\n403         1295         1\n404         1296         0\n405         1297         0\n406         1298         0\n407         1299         0\n408         1300         1\n409         1301         1\n410         1302         1\n411         1303         1\n412         1304         1\n413         1305         0\n414         1306         1\n415         1307         0\n416         1308         0\n417         1309         0\n\n[418 rows x 2 columns]",
            "text/html": "<div>\n<style>\n    .dataframe thead tr:only-child th {\n        text-align: right;\n    }\n\n    .dataframe thead th {\n        text-align: left;\n    }\n\n    .dataframe tbody tr th {\n        vertical-align: top;\n    }\n</style>\n<table border=\"1\" class=\"dataframe\">\n  <thead>\n    <tr style=\"text-align: right;\">\n      <th></th>\n      <th>PassengerId</th>\n      <th>Survived</th>\n    </tr>\n  </thead>\n  <tbody>\n    <tr>\n      <th>0</th>\n      <td>892</td>\n      <td>0</td>\n    </tr>\n    <tr>\n      <th>1</th>\n      <td>893</td>\n      <td>0</td>\n    </tr>\n    <tr>\n      <th>2</th>\n      <td>894</td>\n      <td>0</td>\n    </tr>\n    <tr>\n      <th>3</th>\n      <td>895</td>\n      <td>0</td>\n    </tr>\n    <tr>\n      <th>4</th>\n      <td>896</td>\n      <td>1</td>\n    </tr>\n    <tr>\n      <th>5</th>\n      <td>897</td>\n      <td>0</td>\n    </tr>\n    <tr>\n      <th>6</th>\n      <td>898</td>\n      <td>1</td>\n    </tr>\n    <tr>\n      <th>7</th>\n      <td>899</td>\n      <td>0</td>\n    </tr>\n    <tr>\n      <th>8</th>\n      <td>900</td>\n      <td>1</td>\n    </tr>\n    <tr>\n      <th>9</th>\n      <td>901</td>\n      <td>0</td>\n    </tr>\n    <tr>\n      <th>10</th>\n      <td>902</td>\n      <td>0</td>\n    </tr>\n    <tr>\n      <th>11</th>\n      <td>903</td>\n      <td>0</td>\n    </tr>\n    <tr>\n      <th>12</th>\n      <td>904</td>\n      <td>1</td>\n    </tr>\n    <tr>\n      <th>13</th>\n      <td>905</td>\n      <td>0</td>\n    </tr>\n    <tr>\n      <th>14</th>\n      <td>906</td>\n      <td>1</td>\n    </tr>\n    <tr>\n      <th>15</th>\n      <td>907</td>\n      <td>1</td>\n    </tr>\n    <tr>\n      <th>16</th>\n      <td>908</td>\n      <td>0</td>\n    </tr>\n    <tr>\n      <th>17</th>\n      <td>909</td>\n      <td>0</td>\n    </tr>\n    <tr>\n      <th>18</th>\n      <td>910</td>\n      <td>1</td>\n    </tr>\n    <tr>\n      <th>19</th>\n      <td>911</td>\n      <td>1</td>\n    </tr>\n    <tr>\n      <th>20</th>\n      <td>912</td>\n      <td>0</td>\n    </tr>\n    <tr>\n      <th>21</th>\n      <td>913</td>\n      <td>0</td>\n    </tr>\n    <tr>\n      <th>22</th>\n      <td>914</td>\n      <td>1</td>\n    </tr>\n    <tr>\n      <th>23</th>\n      <td>915</td>\n      <td>1</td>\n    </tr>\n    <tr>\n      <th>24</th>\n      <td>916</td>\n      <td>1</td>\n    </tr>\n    <tr>\n      <th>25</th>\n      <td>917</td>\n      <td>0</td>\n    </tr>\n    <tr>\n      <th>26</th>\n      <td>918</td>\n      <td>1</td>\n    </tr>\n    <tr>\n      <th>27</th>\n      <td>919</td>\n      <td>0</td>\n    </tr>\n    <tr>\n      <th>28</th>\n      <td>920</td>\n      <td>0</td>\n    </tr>\n    <tr>\n      <th>29</th>\n      <td>921</td>\n      <td>0</td>\n    </tr>\n    <tr>\n      <th>...</th>\n      <td>...</td>\n      <td>...</td>\n    </tr>\n    <tr>\n      <th>388</th>\n      <td>1280</td>\n      <td>0</td>\n    </tr>\n    <tr>\n      <th>389</th>\n      <td>1281</td>\n      <td>0</td>\n    </tr>\n    <tr>\n      <th>390</th>\n      <td>1282</td>\n      <td>1</td>\n    </tr>\n    <tr>\n      <th>391</th>\n      <td>1283</td>\n      <td>1</td>\n    </tr>\n    <tr>\n      <th>392</th>\n      <td>1284</td>\n      <td>0</td>\n    </tr>\n    <tr>\n      <th>393</th>\n      <td>1285</td>\n      <td>0</td>\n    </tr>\n    <tr>\n      <th>394</th>\n      <td>1286</td>\n      <td>0</td>\n    </tr>\n    <tr>\n      <th>395</th>\n      <td>1287</td>\n      <td>1</td>\n    </tr>\n    <tr>\n      <th>396</th>\n      <td>1288</td>\n      <td>0</td>\n    </tr>\n    <tr>\n      <th>397</th>\n      <td>1289</td>\n      <td>1</td>\n    </tr>\n    <tr>\n      <th>398</th>\n      <td>1290</td>\n      <td>0</td>\n    </tr>\n    <tr>\n      <th>399</th>\n      <td>1291</td>\n      <td>0</td>\n    </tr>\n    <tr>\n      <th>400</th>\n      <td>1292</td>\n      <td>1</td>\n    </tr>\n    <tr>\n      <th>401</th>\n      <td>1293</td>\n      <td>0</td>\n    </tr>\n    <tr>\n      <th>402</th>\n      <td>1294</td>\n      <td>1</td>\n    </tr>\n    <tr>\n      <th>403</th>\n      <td>1295</td>\n      <td>1</td>\n    </tr>\n    <tr>\n      <th>404</th>\n      <td>1296</td>\n      <td>0</td>\n    </tr>\n    <tr>\n      <th>405</th>\n      <td>1297</td>\n      <td>0</td>\n    </tr>\n    <tr>\n      <th>406</th>\n      <td>1298</td>\n      <td>0</td>\n    </tr>\n    <tr>\n      <th>407</th>\n      <td>1299</td>\n      <td>0</td>\n    </tr>\n    <tr>\n      <th>408</th>\n      <td>1300</td>\n      <td>1</td>\n    </tr>\n    <tr>\n      <th>409</th>\n      <td>1301</td>\n      <td>1</td>\n    </tr>\n    <tr>\n      <th>410</th>\n      <td>1302</td>\n      <td>1</td>\n    </tr>\n    <tr>\n      <th>411</th>\n      <td>1303</td>\n      <td>1</td>\n    </tr>\n    <tr>\n      <th>412</th>\n      <td>1304</td>\n      <td>1</td>\n    </tr>\n    <tr>\n      <th>413</th>\n      <td>1305</td>\n      <td>0</td>\n    </tr>\n    <tr>\n      <th>414</th>\n      <td>1306</td>\n      <td>1</td>\n    </tr>\n    <tr>\n      <th>415</th>\n      <td>1307</td>\n      <td>0</td>\n    </tr>\n    <tr>\n      <th>416</th>\n      <td>1308</td>\n      <td>0</td>\n    </tr>\n    <tr>\n      <th>417</th>\n      <td>1309</td>\n      <td>0</td>\n    </tr>\n  </tbody>\n</table>\n<p>418 rows × 2 columns</p>\n</div>"
          },
          "metadata": {}
        }
      ]
    }
  ],
  "metadata": {
    "kernelspec": {
      "display_name": "Python 3",
      "language": "python",
      "name": "python3"
    },
    "language_info": {
      "name": "python",
      "version": "3.6.4",
      "mimetype": "text/x-python",
      "codemirror_mode": {
        "name": "ipython",
        "version": 3
      },
      "pygments_lexer": "ipython3",
      "nbconvert_exporter": "python",
      "file_extension": ".py"
    }
  },
  "nbformat": 4,
  "nbformat_minor": 1
}